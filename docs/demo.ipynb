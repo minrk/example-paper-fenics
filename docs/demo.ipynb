{
 "cells": [
  {
   "cell_type": "markdown",
   "id": "997a012a",
   "metadata": {},
   "source": [
    "# Demo\n",
    "\n",
    "This notebook contains a simple demo on how to work with the code. Before running this code you should also make sure to download the data."
   ]
  },
  {
   "cell_type": "code",
   "execution_count": null,
   "id": "9f95b9ba",
   "metadata": {
    "scrolled": true
   },
   "outputs": [],
   "source": [
    "!curl -L 'https://www.dropbox.com/s/6bkbw6v269dyfie/data.tar' -o data.tar && tar -xvf data.tar"
   ]
  },
  {
   "cell_type": "markdown",
   "id": "a1d51753",
   "metadata": {},
   "source": [
    "Just make sure that the meshes are downloaded by listing them"
   ]
  },
  {
   "cell_type": "code",
   "execution_count": null,
   "id": "c434ed20",
   "metadata": {},
   "outputs": [],
   "source": [
    "!ls mesh"
   ]
  },
  {
   "cell_type": "markdown",
   "id": "f3327106",
   "metadata": {},
   "source": [
    "Now we need to make sure that we can import the fuctions from the `code` folder. We can do this by adding the `code` folder to `sys.path`. "
   ]
  },
  {
   "cell_type": "code",
   "execution_count": null,
   "id": "2a251028",
   "metadata": {},
   "outputs": [],
   "source": [
    "import sys\n",
    "sys.path.insert(0, \"../code\")"
   ]
  },
  {
   "cell_type": "markdown",
   "id": "4610db02",
   "metadata": {},
   "source": [
    "In the dataset, there are two meshes. Let us pick the smallest heart which is heart number 1"
   ]
  },
  {
   "cell_type": "code",
   "execution_count": null,
   "id": "5967f9e1",
   "metadata": {},
   "outputs": [],
   "source": [
    "heart_nr = 1"
   ]
  },
  {
   "cell_type": "markdown",
   "id": "d93e8561",
   "metadata": {},
   "source": [
    "Let us specify the path to gmsh file and make sure ths file exist"
   ]
  },
  {
   "cell_type": "code",
   "execution_count": null,
   "id": "a14a60fa",
   "metadata": {},
   "outputs": [],
   "source": [
    "from pathlib import Path\n",
    "\n",
    "msh_file = Path(\"mesh\") / f\"heart{heart_nr:02}.msh\"\n",
    "\n",
    "assert msh_file.is_file()"
   ]
  },
  {
   "cell_type": "markdown",
   "id": "a3ac2010",
   "metadata": {},
   "source": [
    "## Pre-processing\n",
    "\n",
    "First step is to convert the gmsh file to dolfin format. We can do this with the `convert_mesh` function from the `pre-processing` module"
   ]
  },
  {
   "cell_type": "code",
   "execution_count": null,
   "id": "d3e73084",
   "metadata": {},
   "outputs": [],
   "source": [
    "import pre_processing\n",
    "\n",
    "outfile =  Path(f\"heart{heart_nr:02}.h5\")\n",
    "pre_processing.convert_mesh(msh_file=msh_file, outfile=outfile)"
   ]
  },
  {
   "cell_type": "markdown",
   "id": "0fb08f87",
   "metadata": {},
   "source": [
    "## Fiber generation \n",
    "\n",
    "We can now take the mesh in dolfin format and generate the fiber orientations using the ldrb algorithm."
   ]
  },
  {
   "cell_type": "code",
   "execution_count": null,
   "id": "54775f6d",
   "metadata": {},
   "outputs": [],
   "source": [
    "import run_fiber_generation\n",
    "\n",
    "\n",
    "microstructure_path = Path(f\"microstructure{heart_nr:02}.h5\")\n",
    "run_fiber_generation.generate_fibers(outfile=outfile, microstructure_path=microstructure_path)"
   ]
  },
  {
   "cell_type": "markdown",
   "id": "3c33711c",
   "metadata": {},
   "source": [
    "## Post processing\n",
    "\n",
    "Finally we will run the postprocessing script where we convert the fiber fields to a file we can visualize in paraview, and compare some feautres against the features preseted in an artificial paper\n"
   ]
  },
  {
   "cell_type": "code",
   "execution_count": null,
   "id": "911ffb19",
   "metadata": {},
   "outputs": [],
   "source": [
    "from postprocess import generate_fiber_xdmf_file\n",
    "\n",
    "fiber_path = Path(f\"fiber_{heart_nr:02}.xdmf\")\n",
    "features = generate_fiber_xdmf_file(\n",
    "    outfile=outfile, \n",
    "    microstructure_path=microstructure_path, \n",
    "    fiber_path=fiber_path\n",
    ")\n",
    "print(features)"
   ]
  },
  {
   "cell_type": "code",
   "execution_count": null,
   "id": "5976c9e8",
   "metadata": {},
   "outputs": [],
   "source": []
  }
 ],
 "metadata": {
  "kernelspec": {
   "display_name": "Python 3 (ipykernel)",
   "language": "python",
   "name": "python3"
  },
  "language_info": {
   "codemirror_mode": {
    "name": "ipython",
    "version": 3
   },
   "file_extension": ".py",
   "mimetype": "text/x-python",
   "name": "python",
   "nbconvert_exporter": "python",
   "pygments_lexer": "ipython3",
   "version": "3.10.6"
  },
  "vscode": {
   "interpreter": {
    "hash": "dd2e87c03715f01502b947bc3422e58c2fbb143b3c580415b94b839f5ea0598b"
   }
  }
 },
 "nbformat": 4,
 "nbformat_minor": 5
}
